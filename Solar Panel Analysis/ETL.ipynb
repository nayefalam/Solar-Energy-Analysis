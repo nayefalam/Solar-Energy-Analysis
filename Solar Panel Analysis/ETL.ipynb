{
 "cells": [
  {
   "cell_type": "code",
   "execution_count": 4,
   "id": "9e5920ce",
   "metadata": {},
   "outputs": [],
   "source": [
    "import pandas as pd"
   ]
  },
  {
   "cell_type": "code",
   "execution_count": 5,
   "id": "08b5ad5d",
   "metadata": {},
   "outputs": [],
   "source": [
    "df = pd.read_csv('ksa_solar_dataset.csv')"
   ]
  },
  {
   "cell_type": "code",
   "execution_count": 4,
   "id": "a2056063",
   "metadata": {},
   "outputs": [
    {
     "name": "stdout",
     "output_type": "stream",
     "text": [
      "--- Initial Data Head ---\n",
      "       Date    City  Latitude  Longitude  Temperature (°C)     Weather  \\\n",
      "0  1/1/2024  Riyadh   24.7136    46.6753                18  few clouds   \n",
      "1  1/1/2024  Riyadh   24.7136    46.6753                18  few clouds   \n",
      "2  1/1/2024  Riyadh   24.7136    46.6753                18  few clouds   \n",
      "3  1/1/2024  Riyadh   24.7136    46.6753                18  few clouds   \n",
      "4  1/1/2024  Riyadh   24.7136    46.6753                18  few clouds   \n",
      "\n",
      "        Panel Type Mount Type  Tilt (°)  Panel Efficiency (%)  \\\n",
      "0  Monocrystalline    Rooftop        25                    22   \n",
      "1  Polycrystalline    Rooftop        25                    18   \n",
      "2        Thin-Film    Rooftop        25                    12   \n",
      "3  Monocrystalline     Ground        15                    22   \n",
      "4  Polycrystalline     Ground        15                    18   \n",
      "\n",
      "   Solar Irradiance (kWh/m²/day)  Output Power (W)  \\\n",
      "0                           5.39              1.90   \n",
      "1                           5.39              1.55   \n",
      "2                           5.39              1.04   \n",
      "3                           4.97              1.75   \n",
      "4                           4.97              1.43   \n",
      "\n",
      "   Estimated Daily Output (kWh)  \n",
      "0                         21.06  \n",
      "1                         21.06  \n",
      "2                         21.06  \n",
      "3                         19.47  \n",
      "4                         19.47  \n",
      "\n",
      "--- Initial Data Info ---\n",
      "<class 'pandas.core.frame.DataFrame'>\n",
      "RangeIndex: 10980 entries, 0 to 10979\n",
      "Data columns (total 13 columns):\n",
      " #   Column                         Non-Null Count  Dtype  \n",
      "---  ------                         --------------  -----  \n",
      " 0   Date                           10980 non-null  object \n",
      " 1   City                           10980 non-null  object \n",
      " 2   Latitude                       10980 non-null  float64\n",
      " 3   Longitude                      10980 non-null  float64\n",
      " 4   Temperature (°C)               10980 non-null  int64  \n",
      " 5   Weather                        10980 non-null  object \n",
      " 6   Panel Type                     10980 non-null  object \n",
      " 7   Mount Type                     10980 non-null  object \n",
      " 8   Tilt (°)                       10980 non-null  int64  \n",
      " 9   Panel Efficiency (%)           10980 non-null  int64  \n",
      " 10  Solar Irradiance (kWh/m²/day)  10980 non-null  float64\n",
      " 11  Output Power (W)               10980 non-null  float64\n",
      " 12  Estimated Daily Output (kWh)   10980 non-null  float64\n",
      "dtypes: float64(5), int64(3), object(5)\n",
      "memory usage: 1.1+ MB\n"
     ]
    }
   ],
   "source": [
    "# Display the first 5 rows to see what the data looks like\n",
    "print(\"--- Initial Data Head ---\")\n",
    "print(df.head())\n",
    "\n",
    "# Get a summary of the columns, non-null counts, and data types\n",
    "print(\"\\n--- Initial Data Info ---\")\n",
    "df.info()"
   ]
  },
  {
   "cell_type": "code",
   "execution_count": 6,
   "id": "59c314b7",
   "metadata": {},
   "outputs": [],
   "source": [
    "#Clean up the column names\n",
    "df.columns = df.columns.str.lower().str.replace(' ', '_').str.replace('[^a-zA-Z0-9_]', '', regex=True)\n",
    "\n",
    "#renaming columns for better clarity\n",
    "df.rename(columns={\n",
    "    'temperature_c': 'temperature_celsius',\n",
    "    'tilt_': 'tilt_degrees',\n",
    "    'panelefficiency_': 'panel_efficiency_percent',\n",
    "    'solarirradiancekwhmday': 'solar_irradiance',\n",
    "    'outputpowerw': 'output_power_watts',\n",
    "    'estimateddailyoutputkwh': 'estimated_daily_output_kwh'\n",
    "}, inplace=True)"
   ]
  },
  {
   "cell_type": "code",
   "execution_count": 6,
   "id": "1e4c2091",
   "metadata": {},
   "outputs": [],
   "source": [
    "# Convert the 'date' column to datetime objects\n",
    "df['date'] = pd.to_datetime(df['date'])"
   ]
  },
  {
   "cell_type": "code",
   "execution_count": 8,
   "id": "93b19253",
   "metadata": {},
   "outputs": [
    {
     "name": "stdout",
     "output_type": "stream",
     "text": [
      "\n",
      "--- Cleaned Data Info ---\n",
      "<class 'pandas.core.frame.DataFrame'>\n",
      "RangeIndex: 10980 entries, 0 to 10979\n",
      "Data columns (total 13 columns):\n",
      " #   Column                      Non-Null Count  Dtype  \n",
      "---  ------                      --------------  -----  \n",
      " 0   date                        10980 non-null  object \n",
      " 1   city                        10980 non-null  object \n",
      " 2   latitude                    10980 non-null  float64\n",
      " 3   longitude                   10980 non-null  float64\n",
      " 4   temperature_celsius         10980 non-null  int64  \n",
      " 5   weather                     10980 non-null  object \n",
      " 6   panel_type                  10980 non-null  object \n",
      " 7   mount_type                  10980 non-null  object \n",
      " 8   tilt_degrees                10980 non-null  int64  \n",
      " 9   panel_efficiency_           10980 non-null  int64  \n",
      " 10  solar_irradiance_kwhmday    10980 non-null  float64\n",
      " 11  output_power_w              10980 non-null  float64\n",
      " 12  estimated_daily_output_kwh  10980 non-null  float64\n",
      "dtypes: float64(5), int64(3), object(5)\n",
      "memory usage: 1.1+ MB\n"
     ]
    }
   ],
   "source": [
    "#confirming changes\n",
    "print(\"\\n--- Cleaned Data Info ---\")\n",
    "df.info()"
   ]
  },
  {
   "cell_type": "markdown",
   "id": "e68877b5",
   "metadata": {},
   "source": [
    "These are the features that we need to keep in mind for this particular use case:\n",
    "\n",
    "city\n",
    "\n",
    "temperature_celsius\n",
    "\n",
    "panel_type\n",
    "\n",
    "panel_efficiency_percent\n",
    "\n",
    "output_power_watts"
   ]
  },
  {
   "cell_type": "markdown",
   "id": "5dfeed07",
   "metadata": {},
   "source": [
    "Okay now lets start with pre processing a feature engineering keeping te above in mind, as we have to find how temperature effects panel efficiency these are enough"
   ]
  },
  {
   "cell_type": "code",
   "execution_count": 10,
   "id": "5b313823",
   "metadata": {},
   "outputs": [
    {
     "name": "stdout",
     "output_type": "stream",
     "text": [
      "--- Focused DataFrame Head ---\n",
      "     city  temperature_celsius       panel_type  panel_efficiency_percent  \\\n",
      "0  Riyadh                   18  Monocrystalline                        22   \n",
      "1  Riyadh                   18  Polycrystalline                        18   \n",
      "2  Riyadh                   18        Thin-Film                        12   \n",
      "3  Riyadh                   18  Monocrystalline                        22   \n",
      "4  Riyadh                   18  Polycrystalline                        18   \n",
      "\n",
      "   output_power_watts  \n",
      "0                1.90  \n",
      "1                1.55  \n",
      "2                1.04  \n",
      "3                1.75  \n",
      "4                1.43  \n",
      "\n",
      "--- Focused DataFrame Info ---\n",
      "<class 'pandas.core.frame.DataFrame'>\n",
      "RangeIndex: 10980 entries, 0 to 10979\n",
      "Data columns (total 5 columns):\n",
      " #   Column                    Non-Null Count  Dtype  \n",
      "---  ------                    --------------  -----  \n",
      " 0   city                      10980 non-null  object \n",
      " 1   temperature_celsius       10980 non-null  int64  \n",
      " 2   panel_type                10980 non-null  object \n",
      " 3   panel_efficiency_percent  10980 non-null  int64  \n",
      " 4   output_power_watts        10980 non-null  float64\n",
      "dtypes: float64(1), int64(2), object(2)\n",
      "memory usage: 429.0+ KB\n"
     ]
    }
   ],
   "source": [
    "df.rename(columns={'panel_efficiency_':'panel_efficiency_percent','output_power_w':'output_power_watts'}, inplace= True)\n",
    "\n",
    "columns_to_keep = [\n",
    "    'city',\n",
    "    'temperature_celsius',\n",
    "    'panel_type',\n",
    "    'panel_efficiency_percent',\n",
    "    'output_power_watts'\n",
    "]\n",
    "\n",
    "#Creating a new data frame:\n",
    "heat_df = df[columns_to_keep]\n",
    "\n",
    "#Generating info:\n",
    "print(\"--- Focused DataFrame Head ---\")\n",
    "print(heat_df.head())\n",
    "\n",
    "print(\"\\n--- Focused DataFrame Info ---\")\n",
    "heat_df.info()"
   ]
  }
 ],
 "metadata": {
  "kernelspec": {
   "display_name": "Python 3",
   "language": "python",
   "name": "python3"
  },
  "language_info": {
   "codemirror_mode": {
    "name": "ipython",
    "version": 3
   },
   "file_extension": ".py",
   "mimetype": "text/x-python",
   "name": "python",
   "nbconvert_exporter": "python",
   "pygments_lexer": "ipython3",
   "version": "3.13.3"
  }
 },
 "nbformat": 4,
 "nbformat_minor": 5
}
